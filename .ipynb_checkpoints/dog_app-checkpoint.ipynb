{
 "cells": [
  {
   "cell_type": "markdown",
   "metadata": {},
   "source": [
    "# Convolutional Neural Networks\n",
    "\n",
    "## Project: Write an Algorithm for a Dog Identification App \n",
    "\n",
    "---\n",
    "\n",
    "In this notebook, some template code has already been provided for you, and you will need to implement additional functionality to successfully complete this project. You will not need to modify the included code beyond what is requested. Sections that begin with **'(IMPLEMENTATION)'** in the header indicate that the following block of code will require additional functionality which you must provide. Instructions will be provided for each section, and the specifics of the implementation are marked in the code block with a 'TODO' statement. Please be sure to read the instructions carefully! \n",
    "\n",
    "> **Note**: Once you have completed all of the code implementations, you need to finalize your work by exporting the Jupyter Notebook as an HTML document. Before exporting the notebook to html, all of the code cells need to have been run so that reviewers can see the final implementation and output. You can then export the notebook by using the menu above and navigating to **File -> Download as -> HTML (.html)**. Include the finished document along with this notebook as your submission.\n",
    "\n",
    "In addition to implementing code, there will be questions that you must answer which relate to the project and your implementation. Each section where you will answer a question is preceded by a **'Question X'** header. Carefully read each question and provide thorough answers in the following text boxes that begin with **'Answer:'**. Your project submission will be evaluated based on your answers to each of the questions and the implementation you provide.\n",
    "\n",
    ">**Note:** Code and Markdown cells can be executed using the **Shift + Enter** keyboard shortcut.  Markdown cells can be edited by double-clicking the cell to enter edit mode.\n",
    "\n",
    "The rubric contains _optional_ \"Stand Out Suggestions\" for enhancing the project beyond the minimum requirements. If you decide to pursue the \"Stand Out Suggestions\", you should include the code in this Jupyter notebook.\n",
    "\n",
    "\n",
    "\n",
    "---\n",
    "### Why We're Here \n",
    "\n",
    "In this notebook, you will make the first steps towards developing an algorithm that could be used as part of a mobile or web app.  At the end of this project, your code will accept any user-supplied image as input.  If a dog is detected in the image, it will provide an estimate of the dog's breed.  If a human is detected, it will provide an estimate of the dog breed that is most resembling.  The image below displays potential sample output of your finished project (... but we expect that each student's algorithm will behave differently!). \n",
    "\n",
    "![Sample Dog Output](images/sample_dog_output.png)\n",
    "\n",
    "In this real-world setting, you will need to piece together a series of models to perform different tasks; for instance, the algorithm that detects humans in an image will be different from the CNN that infers dog breed.  There are many points of possible failure, and no perfect algorithm exists.  Your imperfect solution will nonetheless create a fun user experience!\n",
    "\n",
    "### The Road Ahead\n",
    "\n",
    "We break the notebook into separate steps.  Feel free to use the links below to navigate the notebook.\n",
    "\n",
    "* [Step 0](#step0): Import Datasets\n",
    "* [Step 1](#step1): Detect Humans\n",
    "* [Step 2](#step2): Detect Dogs\n",
    "* [Step 3](#step3): Create a CNN to Classify Dog Breeds (from Scratch)\n",
    "* [Step 4](#step4): Create a CNN to Classify Dog Breeds (using Transfer Learning)\n",
    "* [Step 5](#step5): Write your Algorithm\n",
    "* [Step 6](#step6): Test Your Algorithm\n",
    "\n",
    "---\n",
    "<a id='step0'></a>\n",
    "## Step 0: Import Datasets\n",
    "\n",
    "Make sure that you've downloaded the required human and dog datasets:\n",
    "* Download the [dog dataset](https://s3-us-west-1.amazonaws.com/udacity-aind/dog-project/dogImages.zip).  Unzip the folder and place it in this project's home directory, at the location `/dogImages`. \n",
    "\n",
    "* Download the [human dataset](https://s3-us-west-1.amazonaws.com/udacity-aind/dog-project/lfw.zip).  Unzip the folder and place it in the home directory, at location `/lfw`.  \n",
    "\n",
    "*Note: If you are using a Windows machine, you are encouraged to use [7zip](http://www.7-zip.org/) to extract the folder.*\n",
    "\n",
    "In the code cell below, we save the file paths for both the human (LFW) dataset and dog dataset in the numpy arrays `human_files` and `dog_files`."
   ]
  },
  {
   "cell_type": "markdown",
   "metadata": {},
   "source": [
    "### Download Datasets\n",
    "Only run the below two cells if you have not already downloaded the dataset and moved in the correct folders\n",
    "\n",
    "Download the [dog dataset](https://s3-us-west-1.amazonaws.com/udacity-aind/dog-project/dogImages.zip).  Unzip the folder and place it in this project's home directory, at the location `/dogImages`."
   ]
  },
  {
   "cell_type": "code",
   "execution_count": null,
   "metadata": {},
   "outputs": [],
   "source": [
    "%mkdir ./data\n",
    "!wget -O ./data/dogImages.zip https://s3-us-west-1.amazonaws.com/udacity-aind/dog-project/dogImages.zip\n",
    "!unzip ./data/dogImages.zip -d ./data"
   ]
  },
  {
   "cell_type": "markdown",
   "metadata": {},
   "source": [
    "Download the [human dataset](https://s3-us-west-1.amazonaws.com/udacity-aind/dog-project/lfw.zip).  Unzip the folder and place it in the home directory, at location `/lfw`.  "
   ]
  },
  {
   "cell_type": "code",
   "execution_count": null,
   "metadata": {},
   "outputs": [],
   "source": [
    "!wget -O ./data/lfw.zip https://s3-us-west-1.amazonaws.com/udacity-aind/dog-project/lfw.zip\n",
    "!unzip ./data/lfw.zip -d ./data"
   ]
  },
  {
   "cell_type": "markdown",
   "metadata": {},
   "source": [
    "### Inspect Datasets"
   ]
  },
  {
   "cell_type": "code",
   "execution_count": 7,
   "metadata": {},
   "outputs": [
    {
     "name": "stdout",
     "output_type": "stream",
     "text": [
      "There are 13233 total human images.\n",
      "There are 8351 total dog images.\n"
     ]
    }
   ],
   "source": [
    "import numpy as np\n",
    "from glob import glob\n",
    "\n",
    "# load filenames for human and dog images\n",
    "human_files = np.array(glob(\"data/lfw/*/*\"))\n",
    "dog_files = np.array(glob(\"data/dogImages/*/*/*\"))\n",
    "\n",
    "# print number of images in each dataset\n",
    "print('There are %d total human images.' % len(human_files))\n",
    "print('There are %d total dog images.' % len(dog_files))"
   ]
  },
  {
   "cell_type": "code",
   "execution_count": 8,
   "metadata": {},
   "outputs": [
    {
     "name": "stdout",
     "output_type": "stream",
     "text": [
      "There are 6680 dog images for training.\n",
      "There are 835 dog images for validation.\n",
      "There are 836 dog images for testing.\n"
     ]
    }
   ],
   "source": [
    "# load train, test, and validation datasets for dog images\n",
    "train_files = np.array(glob(\"data/dogImages/train/*/*\"))\n",
    "valid_files = np.array(glob(\"data/dogImages/valid/*/*\"))\n",
    "test_files = np.array(glob(\"data/dogImages/test/*/*\"))\n",
    "\n",
    "# print number of images in each sub-dataset\n",
    "print('There are %d dog images for training.' % len(train_files))\n",
    "print('There are %d dog images for validation.' % len(valid_files))\n",
    "print('There are %d dog images for testing.' % len(test_files))"
   ]
  },
  {
   "cell_type": "markdown",
   "metadata": {},
   "source": [
    "<a id='step1'></a>\n",
    "## Step 1: Detect Humans\n",
    "\n",
    "In this section, we use OpenCV's implementation of [Haar feature-based cascade classifiers](http://docs.opencv.org/trunk/d7/d8b/tutorial_py_face_detection.html) to detect human faces in images.  \n",
    "\n",
    "OpenCV provides many pre-trained face detectors, stored as XML files on [github](https://github.com/opencv/opencv/tree/master/data/haarcascades).  We have downloaded one of these detectors and stored it in the `haarcascades` directory.  In the next code cell, we demonstrate how to use this detector to find human faces in a sample image."
   ]
  },
  {
   "cell_type": "code",
   "execution_count": 9,
   "metadata": {},
   "outputs": [
    {
     "name": "stdout",
     "output_type": "stream",
     "text": [
      "Number of faces detected: 1\n"
     ]
    },
    {
     "data": {
      "image/png": "[encoded data removed]",
      "text/plain": [
       "<Figure size 432x288 with 1 Axes>"
      ]
     },
     "metadata": {
      "needs_background": "light"
     },
     "output_type": "display_data"
    }
   ],
   "source": [
    "import cv2                \n",
    "import matplotlib.pyplot as plt                        \n",
    "%matplotlib inline                               \n",
    "\n",
    "# extract pre-trained face detector\n",
    "face_cascade = cv2.CascadeClassifier('haarcascades/haarcascade_frontalface_alt.xml')\n",
    "\n",
    "# load color (BGR) image\n",
    "img = cv2.imread(human_files[1])\n",
    "# convert BGR image to grayscale\n",
    "gray = cv2.cvtColor(img, cv2.COLOR_BGR2GRAY)\n",
    "\n",
    "# find faces in image\n",
    "faces = face_cascade.detectMultiScale(gray)\n",
    "\n",
    "# print number of faces detected in the image\n",
    "print('Number of faces detected:', len(faces))\n",
    "\n",
    "# get bounding box for each detected face\n",
    "for (x,y,w,h) in faces:\n",
    "    # add bounding box to color image\n",
    "    cv2.rectangle(img,(x,y),(x+w,y+h),(255,0,0),2)\n",
    "    \n",
    "# convert BGR image to RGB for plotting\n",
    "cv_rgb = cv2.cvtColor(img, cv2.COLOR_BGR2RGB)\n",
    "\n",
    "# display the image, along with bounding box\n",
    "plt.imshow(cv_rgb)\n",
    "plt.show()"
   ]
  },
  {
   "cell_type": "markdown",
   "metadata": {},
   "source": [
    "Before using any of the face detectors, it is standard procedure to convert the images to grayscale.  The `detectMultiScale` function executes the classifier stored in `face_cascade` and takes the grayscale image as a parameter.  \n",
    "\n",
    "In the above code, `faces` is a numpy array of detected faces, where each row corresponds to a detected face.  Each detected face is a 1D array with four entries that specifies the bounding box of the detected face.  The first two entries in the array (extracted in the above code as `x` and `y`) specify the horizontal and vertical positions of the top left corner of the bounding box.  The last two entries in the array (extracted here as `w` and `h`) specify the width and height of the box.\n",
    "\n",
    "### Write a Human Face Detector\n",
    "\n",
    "We can use this procedure to write a function that returns `True` if a human face is detected in an image and `False` otherwise.  This function, aptly named `face_detector`, takes a string-valued file path to an image as input and appears in the code block below."
   ]
  },
  {
   "cell_type": "code",
   "execution_count": 10,
   "metadata": {},
   "outputs": [],
   "source": [
    "# returns \"True\" if face is detected in image stored at img_path\n",
    "def face_detector(img_path):\n",
    "    img = cv2.imread(img_path)\n",
    "    gray = cv2.cvtColor(img, cv2.COLOR_BGR2GRAY)\n",
    "    faces = face_cascade.detectMultiScale(gray)\n",
    "    return len(faces) > 0"
   ]
  },
  {
   "cell_type": "markdown",
   "metadata": {},
   "source": [
    "### (IMPLEMENTATION) Assess the Human Face Detector\n",
    "\n",
    "__Question 1:__ Use the code cell below to test the performance of the `face_detector` function.  \n",
    "- What percentage of the first 100 images in `human_files` have a detected human face?  \n",
    "- What percentage of the first 100 images in `dog_files` have a detected human face? \n",
    "\n",
    "Ideally, we would like 100% of human images with a detected face and 0% of dog images with a detected face.  You will see that our algorithm falls short of this goal, but still gives acceptable performance.  We extract the file paths for the first 100 images from each of the datasets and store them in the numpy arrays `human_files_short` and `dog_files_short`."
   ]
  },
  {
   "cell_type": "markdown",
   "metadata": {},
   "source": [
    "__Answer:__ \n",
    "(You can print out your results and/or write your percentages in this cell)"
   ]
  },
  {
   "cell_type": "code",
   "execution_count": 11,
   "metadata": {},
   "outputs": [
    {
     "name": "stderr",
     "output_type": "stream",
     "text": [
      "100%|██████████| 100/100 [00:01<00:00, 74.42it/s]\n",
      "100%|██████████| 100/100 [00:08<00:00, 12.17it/s]"
     ]
    },
    {
     "name": "stdout",
     "output_type": "stream",
     "text": [
      "There have been faces found in 99.0% of 100 human images.\n",
      "There have been faces found in 18.0% of 100 dog images.\n"
     ]
    },
    {
     "name": "stderr",
     "output_type": "stream",
     "text": [
      "\n"
     ]
    }
   ],
   "source": [
    "from tqdm import tqdm\n",
    "\n",
    "human_files_short = human_files[:100]\n",
    "dog_files_short = dog_files[:100]\n",
    "\n",
    "#-#-# Do NOT modify the code above this line. #-#-#\n",
    "\n",
    "human_summary = []\n",
    "dog_summary = []\n",
    "\n",
    "for human in tqdm(human_files_short):\n",
    "    human_summary.append(face_detector(human))\n",
    "\n",
    "for dog in tqdm(dog_files_short):\n",
    "    dog_summary.append(face_detector(dog))\n",
    "    \n",
    "human_positives = sum(human_summary)\n",
    "dog_positives = sum(dog_summary)\n",
    "\n",
    "print(\"There have been faces found in {}% of 100 human images.\".format(100.0*human_positives/len(human_files_short)))\n",
    "print(\"There have been faces found in {}% of 100 dog images.\".format(100.0*dog_positives/len(dog_files_short)))\n"
   ]
  },
  {
   "cell_type": "markdown",
   "metadata": {},
   "source": [
    "We suggest the face detector from OpenCV as a potential way to detect human images in your algorithm, but you are free to explore other approaches, especially approaches that make use of deep learning :).  Please use the code cell below to design and test your own face detection algorithm.  If you decide to pursue this _optional_ task, report performance on `human_files_short` and `dog_files_short`."
   ]
  },
  {
   "cell_type": "code",
   "execution_count": null,
   "metadata": {},
   "outputs": [],
   "source": [
    "### (Optional) \n",
    "### TODO: Test performance of another face detection algorithm.\n",
    "### Feel free to use as many code cells as needed."
   ]
  },
  {
   "cell_type": "markdown",
   "metadata": {},
   "source": [
    "---\n",
    "<a id='step2'></a>\n",
    "## Step 2: Detect Dogs\n",
    "\n",
    "In this section, we use a [pre-trained model](http://pytorch.org/docs/master/torchvision/models.html) to detect dogs in images.  \n",
    "\n",
    "### Obtain Pre-trained VGG-16 Model\n",
    "\n",
    "The code cell below downloads the VGG-16 model, along with weights that have been trained on [ImageNet](http://www.image-net.org/), a very large, very popular dataset used for image classification and other vision tasks.  ImageNet contains over 10 million URLs, each linking to an image containing an object from one of [1000 categories](https://gist.github.com/yrevar/942d3a0ac09ec9e5eb3a).  "
   ]
  },
  {
   "cell_type": "code",
   "execution_count": 1,
   "metadata": {},
   "outputs": [
    {
     "name": "stderr",
     "output_type": "stream",
     "text": [
      "Downloading: \"https://download.pytorch.org/models/vgg16-397923af.pth\" to /Users/mfts/.cache/torch/checkpoints/vgg16-397923af.pth\n"
     ]
    },
    {
     "data": {
      "application/vnd.jupyter.widget-view+json": {
       "model_id": "3432e60cf86e411aa2aa294f5e4a3003",
       "version_major": 2,
       "version_minor": 0
      },
      "text/plain": [
       "HBox(children=(FloatProgress(value=0.0, max=553433881.0), HTML(value='')))"
      ]
     },
     "metadata": {},
     "output_type": "display_data"
    },
    {
     "name": "stdout",
     "output_type": "stream",
     "text": [
      "\n"
     ]
    }
   ],
   "source": [
    "import torch\n",
    "import torchvision.models as models\n",
    "\n",
    "# define VGG16 model\n",
    "VGG16 = models.vgg16(pretrained=True)\n",
    "\n",
    "# check if CUDA is available\n",
    "use_cuda = torch.cuda.is_available()\n",
    "\n",
    "# move model to GPU if CUDA is available\n",
    "if use_cuda:\n",
    "    VGG16 = VGG16.cuda()"
   ]
  },
  {
   "cell_type": "markdown",
   "metadata": {},
   "source": [
    "Given an image, this pre-trained VGG-16 model returns a prediction (derived from the 1000 possible categories in ImageNet) for the object that is contained in the image."
   ]
  },
  {
   "cell_type": "markdown",
   "metadata": {},
   "source": [
    "### (IMPLEMENTATION) Making Predictions with a Pre-trained Model\n",
    "\n",
    "In the next code cell, you will write a function that accepts a path to an image (such as `'dogImages/train/001.Affenpinscher/Affenpinscher_00001.jpg'`) as input and returns the index corresponding to the ImageNet class that is predicted by the pre-trained VGG-16 model.  The output should always be an integer between 0 and 999, inclusive.\n",
    "\n",
    "Before writing the function, make sure that you take the time to learn  how to appropriately pre-process tensors for pre-trained models in the [PyTorch documentation](http://pytorch.org/docs/stable/torchvision/models.html)."
   ]
  },
  {
   "cell_type": "code",
   "execution_count": 57,
   "metadata": {},
   "outputs": [],
   "source": [
    "from PIL import Image\n",
    "import torchvision.transforms as transforms\n",
    "\n",
    "# Set PIL to be tolerant of image files that are truncated.\n",
    "from PIL import ImageFile\n",
    "ImageFile.LOAD_TRUNCATED_IMAGES = True\n",
    "\n",
    "IMG_SIZE = 224\n",
    "MEAN = [0.485, 0.456, 0.406]\n",
    "STD = [0.229, 0.224, 0.225]\n",
    "\n",
    "def predictor(model, img_path):\n",
    "    '''\n",
    "    Use pre-trained VGG-16 model to obtain index corresponding to \n",
    "    predicted ImageNet class for image at specified path\n",
    "    \n",
    "    Args:\n",
    "        img_path: path to an image\n",
    "        \n",
    "    Returns:\n",
    "        Index corresponding to VGG-16 model's prediction\n",
    "    '''\n",
    "    \n",
    "    ## TODO: Complete the function.\n",
    "    ## Load and pre-process an image from the given img_path\n",
    "    ## Return the *index* of the predicted class for that image\n",
    "    \n",
    "    # create preprocessing steps with transforms.Compose\n",
    "    transformations = transforms.Compose([transforms.Resize((IMG_SIZE, IMG_SIZE)),\n",
    "                                          transforms.ToTensor(),\n",
    "                                          transforms.Normalize(mean=MEAN, std=STD)])\n",
    "    \n",
    "    img = Image.open(img_path)\n",
    "    trans_img = transformations(img).unsqueeze(0)\n",
    "    if use_cuda:\n",
    "        trans_img = trans_img.to('cuda')\n",
    "    predicted_index = model(trans_img).argmax()\n",
    "    \n",
    "    return predicted_index"
   ]
  },
  {
   "cell_type": "markdown",
   "metadata": {},
   "source": [
    "### (IMPLEMENTATION) Write a Dog Detector\n",
    "\n",
    "While looking at the [dictionary](https://gist.github.com/yrevar/942d3a0ac09ec9e5eb3a), you will notice that the categories corresponding to dogs appear in an uninterrupted sequence and correspond to dictionary keys 151-268, inclusive, to include all categories from `'Chihuahua'` to `'Mexican hairless'`.  Thus, in order to check to see if an image is predicted to contain a dog by the pre-trained VGG-16 model, we need only check if the pre-trained model predicts an index between 151 and 268 (inclusive).\n",
    "\n",
    "Use these ideas to complete the `dog_detector` function below, which returns `True` if a dog is detected in an image (and `False` if not)."
   ]
  },
  {
   "cell_type": "code",
   "execution_count": 36,
   "metadata": {},
   "outputs": [],
   "source": [
    "### returns \"True\" if a dog is detected in the image stored at img_path\n",
    "def dog_detector(img_path):\n",
    "    index = predictor(VGG16, img_path).data.cpu().numpy()\n",
    "    if 151 <= index <= 268:\n",
    "        return True\n",
    "    else:\n",
    "        return False"
   ]
  },
  {
   "cell_type": "markdown",
   "metadata": {},
   "source": [
    "### (IMPLEMENTATION) Assess the Dog Detector\n",
    "\n",
    "__Question 2:__ Use the code cell below to test the performance of your `dog_detector` function.  \n",
    "- What percentage of the images in `human_files_short` have a detected dog?  \n",
    "- What percentage of the images in `dog_files_short` have a detected dog?"
   ]
  },
  {
   "cell_type": "markdown",
   "metadata": {},
   "source": [
    "__Answer:__ \n"
   ]
  },
  {
   "cell_type": "code",
   "execution_count": 63,
   "metadata": {},
   "outputs": [
    {
     "name": "stderr",
     "output_type": "stream",
     "text": [
      "100%|██████████| 100/100 [00:40<00:00,  2.48it/s]\n",
      "100%|██████████| 100/100 [00:41<00:00,  2.42it/s]"
     ]
    },
    {
     "name": "stdout",
     "output_type": "stream",
     "text": [
      "There have been dogs found in 0.0% of 100 human images.\n",
      "There have been dogs found in 97.0% of 100 dog images.\n"
     ]
    },
    {
     "name": "stderr",
     "output_type": "stream",
     "text": [
      "\n"
     ]
    }
   ],
   "source": [
    "### TODO: Test the performance of the dog_detector function\n",
    "### on the images in human_files_short and dog_files_short.\n",
    "human_summary_vgg = []\n",
    "dog_summary_vgg = []\n",
    "\n",
    "for human in tqdm(human_files_short):\n",
    "    human_summary_vgg.append(dog_detector(human))\n",
    "\n",
    "for dog in tqdm(dog_files_short):\n",
    "    dog_summary_vgg.append(dog_detector(dog))\n",
    "    \n",
    "human_positives_vgg = sum(human_summary_vgg)\n",
    "dog_positives_vgg = sum(dog_summary_vgg)\n",
    "\n",
    "print(\"There have been dogs found in {}% of 100 human images.\".format(100.0*human_positives_vgg/len(human_files_short)))\n",
    "print(\"There have been dogs found in {}% of 100 dog images.\".format(100.0*dog_positives_vgg/len(dog_files_short)))\n"
   ]
  },
  {
   "cell_type": "markdown",
   "metadata": {},
   "source": [
    "We suggest VGG-16 as a potential network to detect dog images in your algorithm, but you are free to explore other pre-trained networks (such as [Inception-v3](http://pytorch.org/docs/master/torchvision/models.html#inception-v3), [ResNet-50](http://pytorch.org/docs/master/torchvision/models.html#id3), etc).  Please use the code cell below to test other pre-trained PyTorch models.  If you decide to pursue this _optional_ task, report performance on `human_files_short` and `dog_files_short`."
   ]
  },
  {
   "cell_type": "code",
   "execution_count": 56,
   "metadata": {},
   "outputs": [],
   "source": [
    "### (Optional) \n",
    "### TODO: Report the performance of another pre-trained network.\n",
    "### Feel free to use as many code cells as needed.\n",
    "\n",
    "# Load ResNet50 model\n",
    "RESNET50 = models.resnet50(pretrained=True)\n",
    "\n",
    "if use_cuda:\n",
    "    RESNET50 = RESNET50.cuda()"
   ]
  },
  {
   "cell_type": "code",
   "execution_count": 65,
   "metadata": {},
   "outputs": [],
   "source": [
    "def resnet_dog_detector(img_path):\n",
    "    index = predictor(RESNET50, img_path).data.cpu().numpy()\n",
    "    if 151 <= index <= 268:\n",
    "        return True\n",
    "    else:\n",
    "        return False"
   ]
  },
  {
   "cell_type": "code",
   "execution_count": 66,
   "metadata": {},
   "outputs": [
    {
     "name": "stderr",
     "output_type": "stream",
     "text": [
      "\n",
      "  0%|          | 0/100 [00:00<?, ?it/s]\u001b[A\n",
      "  1%|          | 1/100 [00:00<00:25,  3.92it/s]\u001b[A\n",
      "  2%|▏         | 2/100 [00:00<00:25,  3.91it/s]\u001b[A\n",
      "  3%|▎         | 3/100 [00:00<00:24,  3.89it/s]\u001b[A\n",
      "  4%|▍         | 4/100 [00:01<00:24,  3.86it/s]\u001b[A\n",
      "  5%|▌         | 5/100 [00:01<00:25,  3.76it/s]\u001b[A\n",
      "  6%|▌         | 6/100 [00:01<00:25,  3.70it/s]\u001b[A\n",
      "  7%|▋         | 7/100 [00:01<00:24,  3.74it/s]\u001b[A\n",
      "  8%|▊         | 8/100 [00:02<00:24,  3.77it/s]\u001b[A\n",
      "  9%|▉         | 9/100 [00:02<00:23,  3.81it/s]\u001b[A\n",
      " 10%|█         | 10/100 [00:02<00:23,  3.80it/s]\u001b[A\n",
      " 11%|█         | 11/100 [00:02<00:23,  3.81it/s]\u001b[A\n",
      " 12%|█▏        | 12/100 [00:03<00:23,  3.82it/s]\u001b[A\n",
      " 13%|█▎        | 13/100 [00:03<00:22,  3.83it/s]\u001b[A\n",
      " 14%|█▍        | 14/100 [00:03<00:22,  3.83it/s]\u001b[A\n",
      " 15%|█▌        | 15/100 [00:03<00:22,  3.83it/s]\u001b[A\n",
      " 16%|█▌        | 16/100 [00:04<00:21,  3.84it/s]\u001b[A\n",
      " 17%|█▋        | 17/100 [00:04<00:21,  3.84it/s]\u001b[A\n",
      " 18%|█▊        | 18/100 [00:04<00:21,  3.85it/s]\u001b[A\n",
      " 19%|█▉        | 19/100 [00:04<00:21,  3.82it/s]\u001b[A\n",
      " 20%|██        | 20/100 [00:05<00:21,  3.71it/s]\u001b[A\n",
      " 21%|██        | 21/100 [00:05<00:21,  3.67it/s]\u001b[A\n",
      " 22%|██▏       | 22/100 [00:05<00:21,  3.71it/s]\u001b[A\n",
      " 23%|██▎       | 23/100 [00:06<00:20,  3.74it/s]\u001b[A\n",
      " 24%|██▍       | 24/100 [00:06<00:20,  3.64it/s]\u001b[A\n",
      " 25%|██▌       | 25/100 [00:06<00:20,  3.58it/s]\u001b[A\n",
      " 26%|██▌       | 26/100 [00:06<00:20,  3.59it/s]\u001b[A\n",
      " 27%|██▋       | 27/100 [00:07<00:20,  3.58it/s]\u001b[A\n",
      " 28%|██▊       | 28/100 [00:07<00:20,  3.55it/s]\u001b[A\n",
      " 29%|██▉       | 29/100 [00:07<00:19,  3.60it/s]\u001b[A\n",
      " 30%|███       | 30/100 [00:08<00:19,  3.63it/s]\u001b[A\n",
      " 31%|███       | 31/100 [00:08<00:18,  3.68it/s]\u001b[A\n",
      " 32%|███▏      | 32/100 [00:08<00:18,  3.69it/s]\u001b[A\n",
      " 33%|███▎      | 33/100 [00:08<00:18,  3.69it/s]\u001b[A\n",
      " 34%|███▍      | 34/100 [00:09<00:17,  3.73it/s]\u001b[A\n",
      " 35%|███▌      | 35/100 [00:09<00:17,  3.75it/s]\u001b[A\n",
      " 36%|███▌      | 36/100 [00:09<00:17,  3.76it/s]\u001b[A\n",
      " 37%|███▋      | 37/100 [00:09<00:16,  3.77it/s]\u001b[A\n",
      " 38%|███▊      | 38/100 [00:10<00:16,  3.78it/s]\u001b[A\n",
      " 39%|███▉      | 39/100 [00:10<00:16,  3.79it/s]\u001b[A\n",
      " 40%|████      | 40/100 [00:10<00:15,  3.78it/s]\u001b[A\n",
      " 41%|████      | 41/100 [00:10<00:15,  3.79it/s]\u001b[A\n",
      " 42%|████▏     | 42/100 [00:11<00:15,  3.80it/s]\u001b[A\n",
      " 43%|████▎     | 43/100 [00:11<00:14,  3.81it/s]\u001b[A\n",
      " 44%|████▍     | 44/100 [00:11<00:14,  3.80it/s]\u001b[A\n",
      " 45%|████▌     | 45/100 [00:12<00:14,  3.81it/s]\u001b[A\n",
      " 46%|████▌     | 46/100 [00:12<00:14,  3.80it/s]\u001b[A\n",
      " 47%|████▋     | 47/100 [00:12<00:13,  3.79it/s]\u001b[A\n",
      " 48%|████▊     | 48/100 [00:12<00:13,  3.79it/s]\u001b[A\n",
      " 49%|████▉     | 49/100 [00:13<00:13,  3.79it/s]\u001b[A\n",
      " 50%|█████     | 50/100 [00:13<00:13,  3.78it/s]\u001b[A\n",
      " 51%|█████     | 51/100 [00:13<00:13,  3.77it/s]\u001b[A\n",
      " 52%|█████▏    | 52/100 [00:13<00:12,  3.77it/s]\u001b[A\n",
      " 53%|█████▎    | 53/100 [00:14<00:12,  3.75it/s]\u001b[A\n",
      " 54%|█████▍    | 54/100 [00:14<00:12,  3.77it/s]\u001b[A\n",
      " 55%|█████▌    | 55/100 [00:14<00:11,  3.78it/s]\u001b[A\n",
      " 56%|█████▌    | 56/100 [00:14<00:11,  3.77it/s]\u001b[A\n",
      " 57%|█████▋    | 57/100 [00:15<00:11,  3.80it/s]\u001b[A\n",
      " 58%|█████▊    | 58/100 [00:15<00:11,  3.78it/s]\u001b[A\n",
      " 59%|█████▉    | 59/100 [00:15<00:10,  3.79it/s]\u001b[A\n",
      " 60%|██████    | 60/100 [00:15<00:10,  3.77it/s]\u001b[A\n",
      " 61%|██████    | 61/100 [00:16<00:10,  3.77it/s]\u001b[A\n",
      " 62%|██████▏   | 62/100 [00:16<00:10,  3.76it/s]\u001b[A\n",
      " 63%|██████▎   | 63/100 [00:16<00:09,  3.75it/s]\u001b[A\n",
      " 64%|██████▍   | 64/100 [00:17<00:09,  3.73it/s]\u001b[A\n",
      " 65%|██████▌   | 65/100 [00:17<00:09,  3.74it/s]\u001b[A\n",
      " 66%|██████▌   | 66/100 [00:17<00:09,  3.74it/s]\u001b[A\n",
      " 67%|██████▋   | 67/100 [00:17<00:08,  3.74it/s]\u001b[A\n",
      " 68%|██████▊   | 68/100 [00:18<00:08,  3.74it/s]\u001b[A\n",
      " 69%|██████▉   | 69/100 [00:18<00:08,  3.75it/s]\u001b[A\n",
      " 70%|███████   | 70/100 [00:18<00:08,  3.74it/s]\u001b[A\n",
      " 71%|███████   | 71/100 [00:18<00:07,  3.74it/s]\u001b[A\n",
      " 72%|███████▏  | 72/100 [00:19<00:07,  3.75it/s]\u001b[A\n",
      " 73%|███████▎  | 73/100 [00:19<00:07,  3.75it/s]\u001b[A\n",
      " 74%|███████▍  | 74/100 [00:19<00:06,  3.76it/s]\u001b[A\n",
      " 75%|███████▌  | 75/100 [00:19<00:06,  3.77it/s]\u001b[A\n",
      " 76%|███████▌  | 76/100 [00:20<00:06,  3.78it/s]\u001b[A\n",
      " 77%|███████▋  | 77/100 [00:20<00:06,  3.76it/s]\u001b[A\n",
      " 78%|███████▊  | 78/100 [00:20<00:05,  3.77it/s]\u001b[A\n",
      " 79%|███████▉  | 79/100 [00:21<00:05,  3.78it/s]\u001b[A\n",
      " 80%|████████  | 80/100 [00:21<00:05,  3.75it/s]\u001b[A\n",
      " 81%|████████  | 81/100 [00:21<00:05,  3.77it/s]\u001b[A\n",
      " 82%|████████▏ | 82/100 [00:21<00:04,  3.68it/s]\u001b[A\n",
      " 83%|████████▎ | 83/100 [00:22<00:04,  3.66it/s]\u001b[A\n",
      " 84%|████████▍ | 84/100 [00:22<00:04,  3.67it/s]\u001b[A\n",
      " 85%|████████▌ | 85/100 [00:22<00:04,  3.67it/s]\u001b[A\n",
      " 86%|████████▌ | 86/100 [00:22<00:03,  3.68it/s]\u001b[A\n",
      " 87%|████████▋ | 87/100 [00:23<00:03,  3.70it/s]\u001b[A\n",
      " 88%|████████▊ | 88/100 [00:23<00:03,  3.64it/s]\u001b[A\n",
      " 89%|████████▉ | 89/100 [00:23<00:02,  3.68it/s]\u001b[A\n",
      " 90%|█████████ | 90/100 [00:24<00:02,  3.69it/s]\u001b[A\n",
      " 91%|█████████ | 91/100 [00:24<00:02,  3.70it/s]\u001b[A\n",
      " 92%|█████████▏| 92/100 [00:24<00:02,  3.53it/s]\u001b[A\n",
      " 93%|█████████▎| 93/100 [00:24<00:01,  3.58it/s]\u001b[A\n",
      " 94%|█████████▍| 94/100 [00:25<00:01,  3.61it/s]\u001b[A\n",
      " 95%|█████████▌| 95/100 [00:25<00:01,  3.61it/s]\u001b[A\n",
      " 96%|█████████▌| 96/100 [00:25<00:01,  3.63it/s]\u001b[A\n",
      " 97%|█████████▋| 97/100 [00:25<00:00,  3.63it/s]\u001b[A\n",
      " 98%|█████████▊| 98/100 [00:26<00:00,  3.65it/s]\u001b[A\n",
      " 99%|█████████▉| 99/100 [00:26<00:00,  3.68it/s]\u001b[A\n",
      "100%|██████████| 100/100 [00:26<00:00,  3.73it/s]\u001b[A\n",
      "\n",
      "  0%|          | 0/100 [00:00<?, ?it/s]\u001b[A\n",
      "  1%|          | 1/100 [00:00<00:27,  3.65it/s]\u001b[A\n",
      "  2%|▏         | 2/100 [00:00<00:26,  3.67it/s]\u001b[A\n",
      "  3%|▎         | 3/100 [00:00<00:26,  3.66it/s]\u001b[A\n",
      "  4%|▍         | 4/100 [00:01<00:25,  3.70it/s]\u001b[A\n",
      "  5%|▌         | 5/100 [00:01<00:25,  3.72it/s]\u001b[A\n",
      "  6%|▌         | 6/100 [00:01<00:25,  3.66it/s]\u001b[A\n",
      "  7%|▋         | 7/100 [00:01<00:26,  3.57it/s]\u001b[A\n",
      "  8%|▊         | 8/100 [00:02<00:26,  3.52it/s]\u001b[A\n",
      "  9%|▉         | 9/100 [00:02<00:26,  3.48it/s]\u001b[A\n",
      " 10%|█         | 10/100 [00:02<00:25,  3.48it/s]\u001b[A\n",
      " 11%|█         | 11/100 [00:03<00:25,  3.53it/s]\u001b[A\n",
      " 12%|█▏        | 12/100 [00:03<00:24,  3.55it/s]\u001b[A\n",
      " 13%|█▎        | 13/100 [00:03<00:24,  3.53it/s]\u001b[A\n",
      " 14%|█▍        | 14/100 [00:03<00:24,  3.55it/s]\u001b[A\n",
      " 15%|█▌        | 15/100 [00:04<00:23,  3.55it/s]\u001b[A\n",
      " 16%|█▌        | 16/100 [00:04<00:23,  3.52it/s]\u001b[A\n",
      " 17%|█▋        | 17/100 [00:04<00:23,  3.50it/s]\u001b[A\n",
      " 18%|█▊        | 18/100 [00:05<00:23,  3.45it/s]\u001b[A\n",
      " 19%|█▉        | 19/100 [00:05<00:23,  3.43it/s]\u001b[A\n",
      " 20%|██        | 20/100 [00:05<00:23,  3.42it/s]\u001b[A\n",
      " 21%|██        | 21/100 [00:05<00:22,  3.46it/s]\u001b[A\n",
      " 22%|██▏       | 22/100 [00:06<00:22,  3.40it/s]\u001b[A\n",
      " 23%|██▎       | 23/100 [00:06<00:22,  3.37it/s]\u001b[A\n",
      " 24%|██▍       | 24/100 [00:06<00:22,  3.41it/s]\u001b[A\n",
      " 25%|██▌       | 25/100 [00:07<00:21,  3.44it/s]\u001b[A\n",
      " 26%|██▌       | 26/100 [00:07<00:21,  3.51it/s]\u001b[A\n",
      " 27%|██▋       | 27/100 [00:07<00:20,  3.53it/s]\u001b[A\n",
      " 28%|██▊       | 28/100 [00:07<00:20,  3.54it/s]\u001b[A\n",
      " 29%|██▉       | 29/100 [00:08<00:20,  3.47it/s]\u001b[A\n",
      " 30%|███       | 30/100 [00:08<00:20,  3.49it/s]\u001b[A\n",
      " 31%|███       | 31/100 [00:08<00:19,  3.49it/s]\u001b[A\n",
      " 32%|███▏      | 32/100 [00:09<00:19,  3.50it/s]\u001b[A\n",
      " 33%|███▎      | 33/100 [00:09<00:20,  3.29it/s]\u001b[A\n",
      " 34%|███▍      | 34/100 [00:09<00:20,  3.27it/s]\u001b[A\n",
      " 35%|███▌      | 35/100 [00:10<00:19,  3.36it/s]\u001b[A\n",
      " 36%|███▌      | 36/100 [00:10<00:18,  3.43it/s]\u001b[A\n",
      " 37%|███▋      | 37/100 [00:10<00:18,  3.48it/s]\u001b[A\n",
      " 38%|███▊      | 38/100 [00:10<00:17,  3.50it/s]\u001b[A\n",
      " 39%|███▉      | 39/100 [00:11<00:17,  3.45it/s]\u001b[A\n",
      " 40%|████      | 40/100 [00:11<00:17,  3.46it/s]\u001b[A\n",
      " 41%|████      | 41/100 [00:11<00:16,  3.48it/s]\u001b[A\n",
      " 42%|████▏     | 42/100 [00:12<00:16,  3.51it/s]\u001b[A\n",
      " 43%|████▎     | 43/100 [00:12<00:16,  3.50it/s]\u001b[A\n",
      " 44%|████▍     | 44/100 [00:12<00:15,  3.53it/s]\u001b[A\n",
      " 45%|████▌     | 45/100 [00:12<00:15,  3.56it/s]\u001b[A\n",
      " 46%|████▌     | 46/100 [00:13<00:15,  3.58it/s]\u001b[A\n",
      " 47%|████▋     | 47/100 [00:13<00:14,  3.62it/s]\u001b[A\n",
      " 48%|████▊     | 48/100 [00:13<00:14,  3.60it/s]\u001b[A\n",
      " 49%|████▉     | 49/100 [00:13<00:14,  3.61it/s]\u001b[A\n",
      " 50%|█████     | 50/100 [00:14<00:13,  3.62it/s]\u001b[A\n",
      " 51%|█████     | 51/100 [00:14<00:13,  3.62it/s]\u001b[A\n",
      " 52%|█████▏    | 52/100 [00:14<00:13,  3.66it/s]\u001b[A\n",
      " 53%|█████▎    | 53/100 [00:15<00:12,  3.67it/s]\u001b[A\n",
      " 54%|█████▍    | 54/100 [00:15<00:12,  3.67it/s]\u001b[A\n",
      " 55%|█████▌    | 55/100 [00:15<00:12,  3.66it/s]\u001b[A\n",
      " 56%|█████▌    | 56/100 [00:15<00:12,  3.58it/s]\u001b[A\n"
     ]
    },
    {
     "name": "stderr",
     "output_type": "stream",
     "text": [
      " 57%|█████▋    | 57/100 [00:16<00:12,  3.52it/s]\u001b[A\n",
      " 58%|█████▊    | 58/100 [00:16<00:11,  3.57it/s]\u001b[A\n",
      " 59%|█████▉    | 59/100 [00:16<00:11,  3.60it/s]\u001b[A\n",
      " 60%|██████    | 60/100 [00:17<00:10,  3.64it/s]\u001b[A\n",
      " 61%|██████    | 61/100 [00:17<00:10,  3.59it/s]\u001b[A\n",
      " 62%|██████▏   | 62/100 [00:17<00:10,  3.52it/s]\u001b[A\n",
      " 63%|██████▎   | 63/100 [00:17<00:10,  3.51it/s]\u001b[A\n",
      " 64%|██████▍   | 64/100 [00:18<00:10,  3.57it/s]\u001b[A\n",
      " 65%|██████▌   | 65/100 [00:18<00:09,  3.64it/s]\u001b[A\n",
      " 66%|██████▌   | 66/100 [00:18<00:09,  3.67it/s]\u001b[A\n",
      " 67%|██████▋   | 67/100 [00:18<00:08,  3.70it/s]\u001b[A\n",
      " 68%|██████▊   | 68/100 [00:19<00:08,  3.70it/s]\u001b[A\n",
      " 69%|██████▉   | 69/100 [00:19<00:08,  3.71it/s]\u001b[A\n",
      " 70%|███████   | 70/100 [00:19<00:08,  3.71it/s]\u001b[A\n",
      " 71%|███████   | 71/100 [00:20<00:08,  3.60it/s]\u001b[A\n",
      " 72%|███████▏  | 72/100 [00:20<00:07,  3.64it/s]\u001b[A\n",
      " 73%|███████▎  | 73/100 [00:20<00:07,  3.66it/s]\u001b[A\n",
      " 74%|███████▍  | 74/100 [00:20<00:07,  3.69it/s]\u001b[A\n",
      " 75%|███████▌  | 75/100 [00:21<00:06,  3.59it/s]\u001b[A\n",
      " 76%|███████▌  | 76/100 [00:21<00:06,  3.55it/s]\u001b[A\n",
      " 77%|███████▋  | 77/100 [00:21<00:06,  3.55it/s]\u001b[A\n",
      " 78%|███████▊  | 78/100 [00:22<00:06,  3.46it/s]\u001b[A\n",
      " 79%|███████▉  | 79/100 [00:22<00:06,  3.39it/s]\u001b[A\n",
      " 80%|████████  | 80/100 [00:22<00:05,  3.42it/s]\u001b[A\n",
      " 81%|████████  | 81/100 [00:22<00:05,  3.48it/s]\u001b[A\n",
      " 82%|████████▏ | 82/100 [00:23<00:05,  3.50it/s]\u001b[A\n",
      " 83%|████████▎ | 83/100 [00:23<00:04,  3.54it/s]\u001b[A\n",
      " 84%|████████▍ | 84/100 [00:23<00:04,  3.57it/s]\u001b[A\n",
      " 85%|████████▌ | 85/100 [00:24<00:04,  3.59it/s]\u001b[A\n",
      " 86%|████████▌ | 86/100 [00:24<00:03,  3.62it/s]\u001b[A\n",
      " 87%|████████▋ | 87/100 [00:24<00:03,  3.65it/s]\u001b[A\n",
      " 88%|████████▊ | 88/100 [00:24<00:03,  3.62it/s]\u001b[A\n",
      " 89%|████████▉ | 89/100 [00:25<00:03,  3.66it/s]\u001b[A\n",
      " 90%|█████████ | 90/100 [00:25<00:02,  3.66it/s]\u001b[A\n",
      " 91%|█████████ | 91/100 [00:25<00:02,  3.70it/s]\u001b[A\n",
      " 92%|█████████▏| 92/100 [00:25<00:02,  3.70it/s]\u001b[A\n",
      " 93%|█████████▎| 93/100 [00:26<00:01,  3.71it/s]\u001b[A\n",
      " 94%|█████████▍| 94/100 [00:26<00:01,  3.74it/s]\u001b[A\n",
      " 95%|█████████▌| 95/100 [00:26<00:01,  3.71it/s]\u001b[A\n",
      " 96%|█████████▌| 96/100 [00:26<00:01,  3.70it/s]\u001b[A\n",
      " 97%|█████████▋| 97/100 [00:27<00:00,  3.72it/s]\u001b[A\n",
      " 98%|█████████▊| 98/100 [00:27<00:00,  3.32it/s]\u001b[A\n",
      " 99%|█████████▉| 99/100 [00:27<00:00,  3.44it/s]\u001b[A\n",
      "100%|██████████| 100/100 [00:28<00:00,  3.55it/s]\u001b[A"
     ]
    },
    {
     "name": "stdout",
     "output_type": "stream",
     "text": [
      "There have been dogs found in 0.0% of 100 human images.\n",
      "There have been dogs found in 0.0% of 100 dog images.\n"
     ]
    },
    {
     "name": "stderr",
     "output_type": "stream",
     "text": [
      "\n"
     ]
    }
   ],
   "source": [
    "human_summary_resnet = []\n",
    "dog_summary_resnet = []\n",
    "\n",
    "for human in tqdm(human_files_short):\n",
    "    human_summary_resnet.append(resnet_dog_detector(human))\n",
    "\n",
    "for dog in tqdm(dog_files_short):\n",
    "    dog_summary_resnet.append(resnet_dog_detector(dog))\n",
    "    \n",
    "human_positives_resnet = sum(human_summary_resnet)\n",
    "dog_positives_resnet = sum(dog_summary_resnet)\n",
    "\n",
    "print(\"There have been dogs found in {}% of 100 human images.\".format(100.0*human_positives_resnet/len(human_files_short)))\n",
    "print(\"There have been dogs found in {}% of 100 dog images.\".format(100.0*dog_positives_resnet/len(dog_files_short)))\n"
   ]
  },
  {
   "cell_type": "markdown",
   "metadata": {},
   "source": [
    "---\n",
    "<a id='step3'></a>\n",
    "## Step 3: Create a CNN to Classify Dog Breeds (from Scratch)\n",
    "\n",
    "Now that we have functions for detecting humans and dogs in images, we need a way to predict breed from images.  In this step, you will create a CNN that classifies dog breeds.  You must create your CNN _from scratch_ (so, you can't use transfer learning _yet_!), and you must attain a test accuracy of at least 10%.  In Step 4 of this notebook, you will have the opportunity to use transfer learning to create a CNN that attains greatly improved accuracy.\n",
    "\n",
    "We mention that the task of assigning breed to dogs from images is considered exceptionally challenging.  To see why, consider that *even a human* would have trouble distinguishing between a Brittany and a Welsh Springer Spaniel.  \n",
    "\n",
    "Brittany | Welsh Springer Spaniel\n",
    "- | - \n",
    "<img src=\"images/Brittany_02625.jpg\" width=\"100\"> | <img src=\"images/Welsh_springer_spaniel_08203.jpg\" width=\"200\">\n",
    "\n",
    "It is not difficult to find other dog breed pairs with minimal inter-class variation (for instance, Curly-Coated Retrievers and American Water Spaniels).  \n",
    "\n",
    "Curly-Coated Retriever | American Water Spaniel\n",
    "- | -\n",
    "<img src=\"images/Curly-coated_retriever_03896.jpg\" width=\"200\"> | <img src=\"images/American_water_spaniel_00648.jpg\" width=\"200\">\n",
    "\n",
    "\n",
    "Likewise, recall that labradors come in yellow, chocolate, and black.  Your vision-based algorithm will have to conquer this high intra-class variation to determine how to classify all of these different shades as the same breed.  \n",
    "\n",
    "Yellow Labrador | Chocolate Labrador | Black Labrador\n",
    "- | -\n",
    "<img src=\"images/Labrador_retriever_06457.jpg\" width=\"150\"> | <img src=\"images/Labrador_retriever_06455.jpg\" width=\"240\"> | <img src=\"images/Labrador_retriever_06449.jpg\" width=\"220\">\n",
    "\n",
    "We also mention that random chance presents an exceptionally low bar: setting aside the fact that the classes are slightly imabalanced, a random guess will provide a correct answer roughly 1 in 133 times, which corresponds to an accuracy of less than 1%.  \n",
    "\n",
    "Remember that the practice is far ahead of the theory in deep learning.  Experiment with many different architectures, and trust your intuition.  And, of course, have fun!\n",
    "\n",
    "### (IMPLEMENTATION) Specify Data Loaders for the Dog Dataset\n",
    "\n",
    "Use the code cell below to write three separate [data loaders](http://pytorch.org/docs/stable/data.html#torch.utils.data.DataLoader) for the training, validation, and test datasets of dog images (located at `dogImages/train`, `dogImages/valid`, and `dogImages/test`, respectively).  You may find [this documentation on custom datasets](http://pytorch.org/docs/stable/torchvision/datasets.html) to be a useful resource.  If you are interested in augmenting your training and/or validation data, check out the wide variety of [transforms](http://pytorch.org/docs/stable/torchvision/transforms.html?highlight=transform)!"
   ]
  },
  {
   "cell_type": "code",
   "execution_count": 99,
   "metadata": {},
   "outputs": [],
   "source": [
    "import os\n",
    "from torchvision import datasets\n",
    "\n",
    "### TODO: Write data loaders for training, validation, and test sets\n",
    "## Specify appropriate transforms, and batch_sizes\n",
    "\n",
    "work_dir = \"data/dogImages\"\n",
    "\n",
    "# Constants\n",
    "IMG_SIZE = 224\n",
    "IMG_RESIZE = 256\n",
    "MEAN = [0.485, 0.456, 0.406]\n",
    "STD = [0.229, 0.224, 0.225]\n",
    "FLIP_PROB = 0.3\n",
    "DEG = 30\n",
    "BATCH_SIZE = 256\n",
    "\n",
    "\n",
    "train_transforms = transforms.Compose([transforms.RandomVerticalFlip(FLIP_PROB),\n",
    "                                       transforms.RandomHorizontalFlip(FLIP_PROB),\n",
    "                                       transforms.RandomRotation(DEG),\n",
    "                                       transforms.RandomResizedCrop(IMG_SIZE),\n",
    "                                       transforms.ToTensor(),\n",
    "                                       transforms.Normalize(MEAN, STD),\n",
    "                                      ])\n",
    "\n",
    "valid_transforms = transforms.Compose([transforms.Resize(IMG_RESIZE),\n",
    "                                       transforms.CenterCrop(IMG_SIZE),\n",
    "                                       transforms.ToTensor(),\n",
    "                                       transforms.Normalize(MEAN, STD),\n",
    "                                      ])\n",
    "\n",
    "test_transforms = transforms.Compose([transforms.Resize(IMG_RESIZE),\n",
    "                                      transforms.CenterCrop(IMG_SIZE),\n",
    "                                      transforms.ToTensor(),\n",
    "                                      transforms.Normalize(MEAN, STD),\n",
    "                                     ])\n",
    "\n",
    "\n",
    "train_data =  datasets.ImageFolder(os.path.join(work_dir, \"train\"), transform=train_transforms)\n",
    "valid_data = datasets.ImageFolder(os.path.join(work_dir, \"valid\"), transform=valid_transforms)\n",
    "test_data = datasets.ImageFolder(os.path.join(work_dir, \"test\"), transform=test_transforms)\n",
    "\n",
    "train_loader = torch.utils.data.DataLoader(train_data, batch_size=BATCH_SIZE, shuffle=True)\n",
    "valid_loader = torch.utils.data.DataLoader(valid_data, batch_size=BATCH_SIZE, shuffle=True)\n",
    "test_loader = torch.utils.data.DataLoader(test_data, batch_size=BATCH_SIZE, shuffle=True)"
   ]
  },
  {
   "cell_type": "code",
   "execution_count": 100,
   "metadata": {},
   "outputs": [],
   "source": [
    "loaders_scratch = {'train': train_loader,\n",
    "                   'valid': valid_loader,\n",
    "                   'test': test_loader\n",
    "                  }"
   ]
  },
  {
   "cell_type": "markdown",
   "metadata": {},
   "source": [
    "**Question 3:** Describe your chosen procedure for preprocessing the data. \n",
    "- How does your code resize the images (by cropping, stretching, etc)?  What size did you pick for the input tensor, and why?\n",
    "- Did you decide to augment the dataset?  If so, how (through translations, flips, rotations, etc)?  If not, why not?\n"
   ]
  },
  {
   "cell_type": "markdown",
   "metadata": {},
   "source": [
    "**Answer**:\n",
    "\n",
    "I am randomly resizing & cropping the images to 224x224 pixels. Furthermore, on the training set I am using transformations for random vertical and horizontal flips, as well as random rotations. "
   ]
  },
  {
   "cell_type": "markdown",
   "metadata": {},
   "source": [
    "### (IMPLEMENTATION) Model Architecture\n",
    "\n",
    "Create a CNN to classify dog breed.  Use the template in the code cell below."
   ]
  },
  {
   "cell_type": "code",
   "execution_count": 101,
   "metadata": {},
   "outputs": [],
   "source": [
    "import torch.nn as nn\n",
    "import torch.nn.functional as F\n",
    "\n",
    "# define the CNN architecture\n",
    "class Net(nn.Module):\n",
    "    ### TODO: choose an architecture, and complete the class\n",
    "    def __init__(self):\n",
    "        super(Net, self).__init__()\n",
    "        ## Define layers of a CNN\n",
    "        self.seq1 = nn.Sequential(\n",
    "            nn.Conv2d(3, 32, 3),\n",
    "            nn.ReLU(),\n",
    "            nn.BatchNorm2d(32),\n",
    "            \n",
    "            nn.Conv2d(32, 32, 3),\n",
    "            nn.ReLU(),\n",
    "            nn.BatchNorm2d(32),\n",
    "            nn.MaxPool2d(2),\n",
    "            nn.Dropout(0.25),\n",
    "            \n",
    "            nn.Conv2d(32, 64, 3),\n",
    "            nn.ReLU(),\n",
    "            nn.BatchNorm2d(64),\n",
    "            nn.Dropout(0.25),\n",
    "            \n",
    "            nn.Conv2d(64, 128, 3),\n",
    "            nn.ReLU(),\n",
    "            nn.BatchNorm2d(128),\n",
    "            nn.MaxPool2d(2),\n",
    "            nn.Dropout(0.25)\n",
    "        )\n",
    "        \n",
    "        self.seq2 = nn.Sequential(\n",
    "            nn.Linear(128*53*53, 512),\n",
    "            nn.ReLU(),\n",
    "            nn.BatchNorm1d(512),\n",
    "            nn.Dropout(0.5),\n",
    "            \n",
    "            nn.Linear(512, 128),\n",
    "            nn.ReLU(),\n",
    "            nn.BatchNorm1d(128),\n",
    "            nn.Dropout(0.5),\n",
    "            \n",
    "            nn.Linear(128, 133),\n",
    "            nn.LogSoftmax(dim=1)\n",
    "        )\n",
    "        \n",
    "        \n",
    "    def forward(self, x):\n",
    "        ## Define forward behavior\n",
    "        x = self.seq1(x)\n",
    "        x = x.view(x.size(0), -1)\n",
    "        x = self.seq2(x)\n",
    "        return x\n",
    "\n",
    "#-#-# You do NOT have to modify the code below this line. #-#-#\n",
    "\n",
    "# instantiate the CNN\n",
    "model_scratch = Net()\n",
    "\n",
    "# move tensors to GPU if CUDA is available\n",
    "if use_cuda:\n",
    "    model_scratch.cuda()"
   ]
  },
  {
   "cell_type": "markdown",
   "metadata": {},
   "source": [
    "__Question 4:__ Outline the steps you took to get to your final CNN architecture and your reasoning at each step.  "
   ]
  },
  {
   "cell_type": "markdown",
   "metadata": {},
   "source": [
    "__Answer:__ "
   ]
  },
  {
   "cell_type": "markdown",
   "metadata": {},
   "source": [
    "### (IMPLEMENTATION) Specify Loss Function and Optimizer\n",
    "\n",
    "Use the next code cell to specify a [loss function](http://pytorch.org/docs/stable/nn.html#loss-functions) and [optimizer](http://pytorch.org/docs/stable/optim.html).  Save the chosen loss function as `criterion_scratch`, and the optimizer as `optimizer_scratch` below."
   ]
  },
  {
   "cell_type": "code",
   "execution_count": 102,
   "metadata": {},
   "outputs": [],
   "source": [
    "import torch.optim as optim\n",
    "\n",
    "LR = 0.0001\n",
    "\n",
    "### TODO: select loss function\n",
    "criterion_scratch = nn.CrossEntropyLoss()\n",
    "\n",
    "### TODO: select optimizer\n",
    "optimizer_scratch = optim.Adam(model_scratch.parameters(), lr=LR)"
   ]
  },
  {
   "cell_type": "markdown",
   "metadata": {},
   "source": [
    "### (IMPLEMENTATION) Train and Validate the Model\n",
    "\n",
    "Train and validate your model in the code cell below.  [Save the final model parameters](http://pytorch.org/docs/master/notes/serialization.html) at filepath `'model_scratch.pt'`."
   ]
  },
  {
   "cell_type": "code",
   "execution_count": 103,
   "metadata": {},
   "outputs": [
    {
     "data": {
      "text/html": [
       "\n",
       "                Logging results to <a href=\"https://wandb.com\" target=\"_blank\">Weights & Biases</a> <a href=\"https://docs.wandb.com/integrations/jupyter.html\" target=\"_blank\">(Documentation)</a>.<br/>\n",
       "                Project page: <a href=\"https://app.wandb.ai/mfts/dog-classifier\" target=\"_blank\">https://app.wandb.ai/mfts/dog-classifier</a><br/>\n",
       "                Run page: <a href=\"https://app.wandb.ai/mfts/dog-classifier/runs/dl3l1an2\" target=\"_blank\">https://app.wandb.ai/mfts/dog-classifier/runs/dl3l1an2</a><br/>\n",
       "            "
      ],
      "text/plain": [
       "<IPython.core.display.HTML object>"
      ]
     },
     "metadata": {},
     "output_type": "display_data"
    },
    {
     "ename": "KeyboardInterrupt",
     "evalue": "",
     "output_type": "error",
     "traceback": [
      "\u001b[0;31m---------------------------------------------------------------------------\u001b[0m",
      "\u001b[0;31mKeyboardInterrupt\u001b[0m                         Traceback (most recent call last)",
      "\u001b[0;32m<ipython-input-103-73fe619e9d8b>\u001b[0m in \u001b[0;36m<module>\u001b[0;34m\u001b[0m\n\u001b[1;32m     75\u001b[0m \u001b[0;31m# train the model\u001b[0m\u001b[0;34m\u001b[0m\u001b[0;34m\u001b[0m\u001b[0;34m\u001b[0m\u001b[0m\n\u001b[1;32m     76\u001b[0m model_scratch = train(100, loaders_scratch, model_scratch, optimizer_scratch, \n\u001b[0;32m---> 77\u001b[0;31m                       criterion_scratch, use_cuda, 'model_scratch.pt')\n\u001b[0m\u001b[1;32m     78\u001b[0m \u001b[0;34m\u001b[0m\u001b[0m\n\u001b[1;32m     79\u001b[0m \u001b[0;31m# load the model that got the best validation accuracy\u001b[0m\u001b[0;34m\u001b[0m\u001b[0;34m\u001b[0m\u001b[0;34m\u001b[0m\u001b[0m\n",
      "\u001b[0;32m<ipython-input-103-73fe619e9d8b>\u001b[0m in \u001b[0;36mtrain\u001b[0;34m(n_epochs, loaders, model, optimizer, criterion, use_cuda, save_path)\u001b[0m\n\u001b[1;32m     31\u001b[0m \u001b[0;34m\u001b[0m\u001b[0m\n\u001b[1;32m     32\u001b[0m             \u001b[0moptimizer\u001b[0m\u001b[0;34m.\u001b[0m\u001b[0mzero_grad\u001b[0m\u001b[0;34m(\u001b[0m\u001b[0;34m)\u001b[0m\u001b[0;34m\u001b[0m\u001b[0;34m\u001b[0m\u001b[0m\n\u001b[0;32m---> 33\u001b[0;31m             \u001b[0moutputs\u001b[0m \u001b[0;34m=\u001b[0m \u001b[0mmodel\u001b[0m\u001b[0;34m(\u001b[0m\u001b[0mdata\u001b[0m\u001b[0;34m)\u001b[0m\u001b[0;34m\u001b[0m\u001b[0;34m\u001b[0m\u001b[0m\n\u001b[0m\u001b[1;32m     34\u001b[0m             \u001b[0mloss\u001b[0m \u001b[0;34m=\u001b[0m \u001b[0mcriterion\u001b[0m\u001b[0;34m(\u001b[0m\u001b[0moutputs\u001b[0m\u001b[0;34m,\u001b[0m \u001b[0mtarget\u001b[0m\u001b[0;34m)\u001b[0m\u001b[0;34m\u001b[0m\u001b[0;34m\u001b[0m\u001b[0m\n\u001b[1;32m     35\u001b[0m             \u001b[0mloss\u001b[0m\u001b[0;34m.\u001b[0m\u001b[0mbackward\u001b[0m\u001b[0;34m(\u001b[0m\u001b[0;34m)\u001b[0m\u001b[0;34m\u001b[0m\u001b[0;34m\u001b[0m\u001b[0m\n",
      "\u001b[0;32m/opt/anaconda3/envs/ml-capstone/lib/python3.6/site-packages/torch/nn/modules/module.py\u001b[0m in \u001b[0;36m__call__\u001b[0;34m(self, *input, **kwargs)\u001b[0m\n\u001b[1;32m    530\u001b[0m             \u001b[0mresult\u001b[0m \u001b[0;34m=\u001b[0m \u001b[0mself\u001b[0m\u001b[0;34m.\u001b[0m\u001b[0m_slow_forward\u001b[0m\u001b[0;34m(\u001b[0m\u001b[0;34m*\u001b[0m\u001b[0minput\u001b[0m\u001b[0;34m,\u001b[0m \u001b[0;34m**\u001b[0m\u001b[0mkwargs\u001b[0m\u001b[0;34m)\u001b[0m\u001b[0;34m\u001b[0m\u001b[0;34m\u001b[0m\u001b[0m\n\u001b[1;32m    531\u001b[0m         \u001b[0;32melse\u001b[0m\u001b[0;34m:\u001b[0m\u001b[0;34m\u001b[0m\u001b[0;34m\u001b[0m\u001b[0m\n\u001b[0;32m--> 532\u001b[0;31m             \u001b[0mresult\u001b[0m \u001b[0;34m=\u001b[0m \u001b[0mself\u001b[0m\u001b[0;34m.\u001b[0m\u001b[0mforward\u001b[0m\u001b[0;34m(\u001b[0m\u001b[0;34m*\u001b[0m\u001b[0minput\u001b[0m\u001b[0;34m,\u001b[0m \u001b[0;34m**\u001b[0m\u001b[0mkwargs\u001b[0m\u001b[0;34m)\u001b[0m\u001b[0;34m\u001b[0m\u001b[0;34m\u001b[0m\u001b[0m\n\u001b[0m\u001b[1;32m    533\u001b[0m         \u001b[0;32mfor\u001b[0m \u001b[0mhook\u001b[0m \u001b[0;32min\u001b[0m \u001b[0mself\u001b[0m\u001b[0;34m.\u001b[0m\u001b[0m_forward_hooks\u001b[0m\u001b[0;34m.\u001b[0m\u001b[0mvalues\u001b[0m\u001b[0;34m(\u001b[0m\u001b[0;34m)\u001b[0m\u001b[0;34m:\u001b[0m\u001b[0;34m\u001b[0m\u001b[0;34m\u001b[0m\u001b[0m\n\u001b[1;32m    534\u001b[0m             \u001b[0mhook_result\u001b[0m \u001b[0;34m=\u001b[0m \u001b[0mhook\u001b[0m\u001b[0;34m(\u001b[0m\u001b[0mself\u001b[0m\u001b[0;34m,\u001b[0m \u001b[0minput\u001b[0m\u001b[0;34m,\u001b[0m \u001b[0mresult\u001b[0m\u001b[0;34m)\u001b[0m\u001b[0;34m\u001b[0m\u001b[0;34m\u001b[0m\u001b[0m\n",
      "\u001b[0;32m<ipython-input-101-bf46681ae62c>\u001b[0m in \u001b[0;36mforward\u001b[0;34m(self, x)\u001b[0m\n\u001b[1;32m     49\u001b[0m     \u001b[0;32mdef\u001b[0m \u001b[0mforward\u001b[0m\u001b[0;34m(\u001b[0m\u001b[0mself\u001b[0m\u001b[0;34m,\u001b[0m \u001b[0mx\u001b[0m\u001b[0;34m)\u001b[0m\u001b[0;34m:\u001b[0m\u001b[0;34m\u001b[0m\u001b[0;34m\u001b[0m\u001b[0m\n\u001b[1;32m     50\u001b[0m         \u001b[0;31m## Define forward behavior\u001b[0m\u001b[0;34m\u001b[0m\u001b[0;34m\u001b[0m\u001b[0;34m\u001b[0m\u001b[0m\n\u001b[0;32m---> 51\u001b[0;31m         \u001b[0mx\u001b[0m \u001b[0;34m=\u001b[0m \u001b[0mself\u001b[0m\u001b[0;34m.\u001b[0m\u001b[0mseq1\u001b[0m\u001b[0;34m(\u001b[0m\u001b[0mx\u001b[0m\u001b[0;34m)\u001b[0m\u001b[0;34m\u001b[0m\u001b[0;34m\u001b[0m\u001b[0m\n\u001b[0m\u001b[1;32m     52\u001b[0m         \u001b[0mx\u001b[0m \u001b[0;34m=\u001b[0m \u001b[0mx\u001b[0m\u001b[0;34m.\u001b[0m\u001b[0mview\u001b[0m\u001b[0;34m(\u001b[0m\u001b[0mx\u001b[0m\u001b[0;34m.\u001b[0m\u001b[0msize\u001b[0m\u001b[0;34m(\u001b[0m\u001b[0;36m0\u001b[0m\u001b[0;34m)\u001b[0m\u001b[0;34m,\u001b[0m \u001b[0;34m-\u001b[0m\u001b[0;36m1\u001b[0m\u001b[0;34m)\u001b[0m\u001b[0;34m\u001b[0m\u001b[0;34m\u001b[0m\u001b[0m\n\u001b[1;32m     53\u001b[0m         \u001b[0mx\u001b[0m \u001b[0;34m=\u001b[0m \u001b[0mself\u001b[0m\u001b[0;34m.\u001b[0m\u001b[0mseq2\u001b[0m\u001b[0;34m(\u001b[0m\u001b[0mx\u001b[0m\u001b[0;34m)\u001b[0m\u001b[0;34m\u001b[0m\u001b[0;34m\u001b[0m\u001b[0m\n",
      "\u001b[0;32m/opt/anaconda3/envs/ml-capstone/lib/python3.6/site-packages/torch/nn/modules/module.py\u001b[0m in \u001b[0;36m__call__\u001b[0;34m(self, *input, **kwargs)\u001b[0m\n\u001b[1;32m    530\u001b[0m             \u001b[0mresult\u001b[0m \u001b[0;34m=\u001b[0m \u001b[0mself\u001b[0m\u001b[0;34m.\u001b[0m\u001b[0m_slow_forward\u001b[0m\u001b[0;34m(\u001b[0m\u001b[0;34m*\u001b[0m\u001b[0minput\u001b[0m\u001b[0;34m,\u001b[0m \u001b[0;34m**\u001b[0m\u001b[0mkwargs\u001b[0m\u001b[0;34m)\u001b[0m\u001b[0;34m\u001b[0m\u001b[0;34m\u001b[0m\u001b[0m\n\u001b[1;32m    531\u001b[0m         \u001b[0;32melse\u001b[0m\u001b[0;34m:\u001b[0m\u001b[0;34m\u001b[0m\u001b[0;34m\u001b[0m\u001b[0m\n\u001b[0;32m--> 532\u001b[0;31m             \u001b[0mresult\u001b[0m \u001b[0;34m=\u001b[0m \u001b[0mself\u001b[0m\u001b[0;34m.\u001b[0m\u001b[0mforward\u001b[0m\u001b[0;34m(\u001b[0m\u001b[0;34m*\u001b[0m\u001b[0minput\u001b[0m\u001b[0;34m,\u001b[0m \u001b[0;34m**\u001b[0m\u001b[0mkwargs\u001b[0m\u001b[0;34m)\u001b[0m\u001b[0;34m\u001b[0m\u001b[0;34m\u001b[0m\u001b[0m\n\u001b[0m\u001b[1;32m    533\u001b[0m         \u001b[0;32mfor\u001b[0m \u001b[0mhook\u001b[0m \u001b[0;32min\u001b[0m \u001b[0mself\u001b[0m\u001b[0;34m.\u001b[0m\u001b[0m_forward_hooks\u001b[0m\u001b[0;34m.\u001b[0m\u001b[0mvalues\u001b[0m\u001b[0;34m(\u001b[0m\u001b[0;34m)\u001b[0m\u001b[0;34m:\u001b[0m\u001b[0;34m\u001b[0m\u001b[0;34m\u001b[0m\u001b[0m\n\u001b[1;32m    534\u001b[0m             \u001b[0mhook_result\u001b[0m \u001b[0;34m=\u001b[0m \u001b[0mhook\u001b[0m\u001b[0;34m(\u001b[0m\u001b[0mself\u001b[0m\u001b[0;34m,\u001b[0m \u001b[0minput\u001b[0m\u001b[0;34m,\u001b[0m \u001b[0mresult\u001b[0m\u001b[0;34m)\u001b[0m\u001b[0;34m\u001b[0m\u001b[0;34m\u001b[0m\u001b[0m\n",
      "\u001b[0;32m/opt/anaconda3/envs/ml-capstone/lib/python3.6/site-packages/torch/nn/modules/container.py\u001b[0m in \u001b[0;36mforward\u001b[0;34m(self, input)\u001b[0m\n\u001b[1;32m     98\u001b[0m     \u001b[0;32mdef\u001b[0m \u001b[0mforward\u001b[0m\u001b[0;34m(\u001b[0m\u001b[0mself\u001b[0m\u001b[0;34m,\u001b[0m \u001b[0minput\u001b[0m\u001b[0;34m)\u001b[0m\u001b[0;34m:\u001b[0m\u001b[0;34m\u001b[0m\u001b[0;34m\u001b[0m\u001b[0m\n\u001b[1;32m     99\u001b[0m         \u001b[0;32mfor\u001b[0m \u001b[0mmodule\u001b[0m \u001b[0;32min\u001b[0m \u001b[0mself\u001b[0m\u001b[0;34m:\u001b[0m\u001b[0;34m\u001b[0m\u001b[0;34m\u001b[0m\u001b[0m\n\u001b[0;32m--> 100\u001b[0;31m             \u001b[0minput\u001b[0m \u001b[0;34m=\u001b[0m \u001b[0mmodule\u001b[0m\u001b[0;34m(\u001b[0m\u001b[0minput\u001b[0m\u001b[0;34m)\u001b[0m\u001b[0;34m\u001b[0m\u001b[0;34m\u001b[0m\u001b[0m\n\u001b[0m\u001b[1;32m    101\u001b[0m         \u001b[0;32mreturn\u001b[0m \u001b[0minput\u001b[0m\u001b[0;34m\u001b[0m\u001b[0;34m\u001b[0m\u001b[0m\n\u001b[1;32m    102\u001b[0m \u001b[0;34m\u001b[0m\u001b[0m\n",
      "\u001b[0;32m/opt/anaconda3/envs/ml-capstone/lib/python3.6/site-packages/torch/nn/modules/module.py\u001b[0m in \u001b[0;36m__call__\u001b[0;34m(self, *input, **kwargs)\u001b[0m\n\u001b[1;32m    530\u001b[0m             \u001b[0mresult\u001b[0m \u001b[0;34m=\u001b[0m \u001b[0mself\u001b[0m\u001b[0;34m.\u001b[0m\u001b[0m_slow_forward\u001b[0m\u001b[0;34m(\u001b[0m\u001b[0;34m*\u001b[0m\u001b[0minput\u001b[0m\u001b[0;34m,\u001b[0m \u001b[0;34m**\u001b[0m\u001b[0mkwargs\u001b[0m\u001b[0;34m)\u001b[0m\u001b[0;34m\u001b[0m\u001b[0;34m\u001b[0m\u001b[0m\n\u001b[1;32m    531\u001b[0m         \u001b[0;32melse\u001b[0m\u001b[0;34m:\u001b[0m\u001b[0;34m\u001b[0m\u001b[0;34m\u001b[0m\u001b[0m\n\u001b[0;32m--> 532\u001b[0;31m             \u001b[0mresult\u001b[0m \u001b[0;34m=\u001b[0m \u001b[0mself\u001b[0m\u001b[0;34m.\u001b[0m\u001b[0mforward\u001b[0m\u001b[0;34m(\u001b[0m\u001b[0;34m*\u001b[0m\u001b[0minput\u001b[0m\u001b[0;34m,\u001b[0m \u001b[0;34m**\u001b[0m\u001b[0mkwargs\u001b[0m\u001b[0;34m)\u001b[0m\u001b[0;34m\u001b[0m\u001b[0;34m\u001b[0m\u001b[0m\n\u001b[0m\u001b[1;32m    533\u001b[0m         \u001b[0;32mfor\u001b[0m \u001b[0mhook\u001b[0m \u001b[0;32min\u001b[0m \u001b[0mself\u001b[0m\u001b[0;34m.\u001b[0m\u001b[0m_forward_hooks\u001b[0m\u001b[0;34m.\u001b[0m\u001b[0mvalues\u001b[0m\u001b[0;34m(\u001b[0m\u001b[0;34m)\u001b[0m\u001b[0;34m:\u001b[0m\u001b[0;34m\u001b[0m\u001b[0;34m\u001b[0m\u001b[0m\n\u001b[1;32m    534\u001b[0m             \u001b[0mhook_result\u001b[0m \u001b[0;34m=\u001b[0m \u001b[0mhook\u001b[0m\u001b[0;34m(\u001b[0m\u001b[0mself\u001b[0m\u001b[0;34m,\u001b[0m \u001b[0minput\u001b[0m\u001b[0;34m,\u001b[0m \u001b[0mresult\u001b[0m\u001b[0;34m)\u001b[0m\u001b[0;34m\u001b[0m\u001b[0;34m\u001b[0m\u001b[0m\n",
      "\u001b[0;32m/opt/anaconda3/envs/ml-capstone/lib/python3.6/site-packages/torch/nn/modules/batchnorm.py\u001b[0m in \u001b[0;36mforward\u001b[0;34m(self, input)\u001b[0m\n\u001b[1;32m    105\u001b[0m             \u001b[0minput\u001b[0m\u001b[0;34m,\u001b[0m \u001b[0mself\u001b[0m\u001b[0;34m.\u001b[0m\u001b[0mrunning_mean\u001b[0m\u001b[0;34m,\u001b[0m \u001b[0mself\u001b[0m\u001b[0;34m.\u001b[0m\u001b[0mrunning_var\u001b[0m\u001b[0;34m,\u001b[0m \u001b[0mself\u001b[0m\u001b[0;34m.\u001b[0m\u001b[0mweight\u001b[0m\u001b[0;34m,\u001b[0m \u001b[0mself\u001b[0m\u001b[0;34m.\u001b[0m\u001b[0mbias\u001b[0m\u001b[0;34m,\u001b[0m\u001b[0;34m\u001b[0m\u001b[0;34m\u001b[0m\u001b[0m\n\u001b[1;32m    106\u001b[0m             \u001b[0mself\u001b[0m\u001b[0;34m.\u001b[0m\u001b[0mtraining\u001b[0m \u001b[0;32mor\u001b[0m \u001b[0;32mnot\u001b[0m \u001b[0mself\u001b[0m\u001b[0;34m.\u001b[0m\u001b[0mtrack_running_stats\u001b[0m\u001b[0;34m,\u001b[0m\u001b[0;34m\u001b[0m\u001b[0;34m\u001b[0m\u001b[0m\n\u001b[0;32m--> 107\u001b[0;31m             exponential_average_factor, self.eps)\n\u001b[0m\u001b[1;32m    108\u001b[0m \u001b[0;34m\u001b[0m\u001b[0m\n\u001b[1;32m    109\u001b[0m \u001b[0;34m\u001b[0m\u001b[0m\n",
      "\u001b[0;32m/opt/anaconda3/envs/ml-capstone/lib/python3.6/site-packages/torch/nn/functional.py\u001b[0m in \u001b[0;36mbatch_norm\u001b[0;34m(input, running_mean, running_var, weight, bias, training, momentum, eps)\u001b[0m\n\u001b[1;32m   1668\u001b[0m     return torch.batch_norm(\n\u001b[1;32m   1669\u001b[0m         \u001b[0minput\u001b[0m\u001b[0;34m,\u001b[0m \u001b[0mweight\u001b[0m\u001b[0;34m,\u001b[0m \u001b[0mbias\u001b[0m\u001b[0;34m,\u001b[0m \u001b[0mrunning_mean\u001b[0m\u001b[0;34m,\u001b[0m \u001b[0mrunning_var\u001b[0m\u001b[0;34m,\u001b[0m\u001b[0;34m\u001b[0m\u001b[0;34m\u001b[0m\u001b[0m\n\u001b[0;32m-> 1670\u001b[0;31m         \u001b[0mtraining\u001b[0m\u001b[0;34m,\u001b[0m \u001b[0mmomentum\u001b[0m\u001b[0;34m,\u001b[0m \u001b[0meps\u001b[0m\u001b[0;34m,\u001b[0m \u001b[0mtorch\u001b[0m\u001b[0;34m.\u001b[0m\u001b[0mbackends\u001b[0m\u001b[0;34m.\u001b[0m\u001b[0mcudnn\u001b[0m\u001b[0;34m.\u001b[0m\u001b[0menabled\u001b[0m\u001b[0;34m\u001b[0m\u001b[0;34m\u001b[0m\u001b[0m\n\u001b[0m\u001b[1;32m   1671\u001b[0m     )\n\u001b[1;32m   1672\u001b[0m \u001b[0;34m\u001b[0m\u001b[0m\n",
      "\u001b[0;31mKeyboardInterrupt\u001b[0m: "
     ]
    }
   ],
   "source": [
    "import wandb\n",
    "wandb.init(project=\"dog-classifier\")\n",
    "\n",
    "wandb.watch(model_scratch)\n",
    "\n",
    "# the following import is required for training to be robust to truncated images\n",
    "from PIL import ImageFile\n",
    "ImageFile.LOAD_TRUNCATED_IMAGES = True\n",
    "\n",
    "def train(n_epochs, loaders, model, optimizer, criterion, use_cuda, save_path):\n",
    "    \"\"\"returns trained model\"\"\"\n",
    "    # initialize tracker for minimum validation loss\n",
    "    valid_loss_min = np.Inf \n",
    "    \n",
    "    for epoch in range(1, n_epochs+1):\n",
    "        # initialize variables to monitor training and validation loss\n",
    "        train_loss = 0.0\n",
    "        valid_loss = 0.0\n",
    "        \n",
    "        ###################\n",
    "        # train the model #\n",
    "        ###################\n",
    "        model.train()\n",
    "        for batch_idx, (data, target) in enumerate(loaders['train']):\n",
    "            # move to GPU\n",
    "            if use_cuda:\n",
    "                data, target = data.cuda(), target.cuda()\n",
    "            ## find the loss and update the model parameters accordingly\n",
    "            ## record the average training loss, using something like\n",
    "            ## train_loss = train_loss + ((1 / (batch_idx + 1)) * (loss.data - train_loss))\n",
    "            \n",
    "            optimizer.zero_grad()\n",
    "            outputs = model(data)\n",
    "            loss = criterion(outputs, target)\n",
    "            loss.backward()\n",
    "            optimizer.step()\n",
    "            \n",
    "            wandb.log({\"Loss\": loss})\n",
    "            train_loss += ((1 / (batch_idx + 1)) * (loss.data - train_loss))\n",
    "            \n",
    "        ######################    \n",
    "        # validate the model #\n",
    "        ######################\n",
    "        model.eval()\n",
    "        for batch_idx, (data, target) in enumerate(loaders['valid']):\n",
    "            # move to GPU\n",
    "            if use_cuda:\n",
    "                data, target = data.cuda(), target.cuda()\n",
    "            ## update the average validation loss\n",
    "            \n",
    "            val_outputs = model(data)\n",
    "            val_loss = criterion(val_outputs, target)\n",
    "            valid_loss += ((1 / (batch_idx + 1)) * (val_loss.data - valid_loss))\n",
    "\n",
    "            \n",
    "        # print training/validation statistics \n",
    "        print('Epoch: {} \\tTraining Loss: {:.6f} \\tValidation Loss: {:.6f}'.format(\n",
    "            epoch, \n",
    "            train_loss,\n",
    "            valid_loss\n",
    "            ))\n",
    "        \n",
    "        # save the model if validation loss has decreased\n",
    "        \n",
    "        if valid_loss < valid_loss_min:\n",
    "            valid_loss_min = valid_loss\n",
    "            torch.save(model.state_dict(), save_path)\n",
    "            torch.save(model.state_dict(), os.path.join(wandb.run.dir, 'model_scratch.pt'))\n",
    "            print(\"Saving model with current validation loss: {}\".format(valid_loss))\n",
    "            \n",
    "    # return trained model\n",
    "    return model\n",
    "\n",
    "\n",
    "# train the model\n",
    "model_scratch = train(100, loaders_scratch, model_scratch, optimizer_scratch, \n",
    "                      criterion_scratch, use_cuda, 'model_scratch.pt')\n",
    "\n",
    "# load the model that got the best validation accuracy\n",
    "model_scratch.load_state_dict(torch.load('model_scratch.pt'))"
   ]
  },
  {
   "cell_type": "markdown",
   "metadata": {},
   "source": [
    "### (IMPLEMENTATION) Test the Model\n",
    "\n",
    "Try out your model on the test dataset of dog images.  Use the code cell below to calculate and print the test loss and accuracy.  Ensure that your test accuracy is greater than 10%."
   ]
  },
  {
   "cell_type": "code",
   "execution_count": null,
   "metadata": {
    "collapsed": true
   },
   "outputs": [],
   "source": [
    "def test(loaders, model, criterion, use_cuda):\n",
    "\n",
    "    # monitor test loss and accuracy\n",
    "    test_loss = 0.\n",
    "    correct = 0.\n",
    "    total = 0.\n",
    "\n",
    "    model.eval()\n",
    "    for batch_idx, (data, target) in enumerate(loaders['test']):\n",
    "        # move to GPU\n",
    "        if use_cuda:\n",
    "            data, target = data.cuda(), target.cuda()\n",
    "        # forward pass: compute predicted outputs by passing inputs to the model\n",
    "        output = model(data)\n",
    "        # calculate the loss\n",
    "        loss = criterion(output, target)\n",
    "        # update average test loss \n",
    "        test_loss = test_loss + ((1 / (batch_idx + 1)) * (loss.data - test_loss))\n",
    "        # convert output probabilities to predicted class\n",
    "        pred = output.data.max(1, keepdim=True)[1]\n",
    "        # compare predictions to true label\n",
    "        correct += np.sum(np.squeeze(pred.eq(target.data.view_as(pred))).cpu().numpy())\n",
    "        total += data.size(0)\n",
    "            \n",
    "    print('Test Loss: {:.6f}\\n'.format(test_loss))\n",
    "\n",
    "    print('\\nTest Accuracy: %2d%% (%2d/%2d)' % (\n",
    "        100. * correct / total, correct, total))\n",
    "\n",
    "# call test function    \n",
    "test(loaders_scratch, model_scratch, criterion_scratch, use_cuda)"
   ]
  },
  {
   "cell_type": "markdown",
   "metadata": {},
   "source": [
    "---\n",
    "<a id='step4'></a>\n",
    "## Step 4: Create a CNN to Classify Dog Breeds (using Transfer Learning)\n",
    "\n",
    "You will now use transfer learning to create a CNN that can identify dog breed from images.  Your CNN must attain at least 60% accuracy on the test set.\n",
    "\n",
    "### (IMPLEMENTATION) Specify Data Loaders for the Dog Dataset\n",
    "\n",
    "Use the code cell below to write three separate [data loaders](http://pytorch.org/docs/master/data.html#torch.utils.data.DataLoader) for the training, validation, and test datasets of dog images (located at `dogImages/train`, `dogImages/valid`, and `dogImages/test`, respectively). \n",
    "\n",
    "If you like, **you are welcome to use the same data loaders from the previous step**, when you created a CNN from scratch."
   ]
  },
  {
   "cell_type": "code",
   "execution_count": null,
   "metadata": {
    "collapsed": true
   },
   "outputs": [],
   "source": [
    "## TODO: Specify data loaders\n"
   ]
  },
  {
   "cell_type": "markdown",
   "metadata": {},
   "source": [
    "### (IMPLEMENTATION) Model Architecture\n",
    "\n",
    "Use transfer learning to create a CNN to classify dog breed.  Use the code cell below, and save your initialized model as the variable `model_transfer`."
   ]
  },
  {
   "cell_type": "code",
   "execution_count": null,
   "metadata": {
    "collapsed": true
   },
   "outputs": [],
   "source": [
    "import torchvision.models as models\n",
    "import torch.nn as nn\n",
    "\n",
    "## TODO: Specify model architecture \n",
    "\n",
    "\n",
    "if use_cuda:\n",
    "    model_transfer = model_transfer.cuda()"
   ]
  },
  {
   "cell_type": "markdown",
   "metadata": {},
   "source": [
    "__Question 5:__ Outline the steps you took to get to your final CNN architecture and your reasoning at each step.  Describe why you think the architecture is suitable for the current problem."
   ]
  },
  {
   "cell_type": "markdown",
   "metadata": {},
   "source": [
    "__Answer:__ \n"
   ]
  },
  {
   "cell_type": "markdown",
   "metadata": {},
   "source": [
    "### (IMPLEMENTATION) Specify Loss Function and Optimizer\n",
    "\n",
    "Use the next code cell to specify a [loss function](http://pytorch.org/docs/master/nn.html#loss-functions) and [optimizer](http://pytorch.org/docs/master/optim.html).  Save the chosen loss function as `criterion_transfer`, and the optimizer as `optimizer_transfer` below."
   ]
  },
  {
   "cell_type": "code",
   "execution_count": null,
   "metadata": {
    "collapsed": true
   },
   "outputs": [],
   "source": [
    "criterion_transfer = None\n",
    "optimizer_transfer = None"
   ]
  },
  {
   "cell_type": "markdown",
   "metadata": {},
   "source": [
    "### (IMPLEMENTATION) Train and Validate the Model\n",
    "\n",
    "Train and validate your model in the code cell below.  [Save the final model parameters](http://pytorch.org/docs/master/notes/serialization.html) at filepath `'model_transfer.pt'`."
   ]
  },
  {
   "cell_type": "code",
   "execution_count": null,
   "metadata": {
    "collapsed": true
   },
   "outputs": [],
   "source": [
    "# train the model\n",
    "model_transfer = # train(n_epochs, loaders_transfer, model_transfer, optimizer_transfer, criterion_transfer, use_cuda, 'model_transfer.pt')\n",
    "\n",
    "# load the model that got the best validation accuracy (uncomment the line below)\n",
    "#model_transfer.load_state_dict(torch.load('model_transfer.pt'))"
   ]
  },
  {
   "cell_type": "markdown",
   "metadata": {},
   "source": [
    "### (IMPLEMENTATION) Test the Model\n",
    "\n",
    "Try out your model on the test dataset of dog images. Use the code cell below to calculate and print the test loss and accuracy.  Ensure that your test accuracy is greater than 60%."
   ]
  },
  {
   "cell_type": "code",
   "execution_count": null,
   "metadata": {
    "collapsed": true
   },
   "outputs": [],
   "source": [
    "test(loaders_transfer, model_transfer, criterion_transfer, use_cuda)"
   ]
  },
  {
   "cell_type": "markdown",
   "metadata": {},
   "source": [
    "### (IMPLEMENTATION) Predict Dog Breed with the Model\n",
    "\n",
    "Write a function that takes an image path as input and returns the dog breed (`Affenpinscher`, `Afghan hound`, etc) that is predicted by your model.  "
   ]
  },
  {
   "cell_type": "code",
   "execution_count": null,
   "metadata": {
    "collapsed": true
   },
   "outputs": [],
   "source": [
    "### TODO: Write a function that takes a path to an image as input\n",
    "### and returns the dog breed that is predicted by the model.\n",
    "\n",
    "# list of class names by index, i.e. a name can be accessed like class_names[0]\n",
    "class_names = [item[4:].replace(\"_\", \" \") for item in data_transfer['train'].classes]\n",
    "\n",
    "def predict_breed_transfer(img_path):\n",
    "    # load the image and return the predicted breed\n",
    "    return None"
   ]
  },
  {
   "cell_type": "markdown",
   "metadata": {},
   "source": [
    "---\n",
    "<a id='step5'></a>\n",
    "## Step 5: Write your Algorithm\n",
    "\n",
    "Write an algorithm that accepts a file path to an image and first determines whether the image contains a human, dog, or neither.  Then,\n",
    "- if a __dog__ is detected in the image, return the predicted breed.\n",
    "- if a __human__ is detected in the image, return the resembling dog breed.\n",
    "- if __neither__ is detected in the image, provide output that indicates an error.\n",
    "\n",
    "You are welcome to write your own functions for detecting humans and dogs in images, but feel free to use the `face_detector` and `dog_detector` functions developed above.  You are __required__ to use your CNN from Step 4 to predict dog breed.  \n",
    "\n",
    "Some sample output for our algorithm is provided below, but feel free to design your own user experience!\n",
    "\n",
    "![Sample Human Output](images/sample_human_output.png)\n",
    "\n",
    "\n",
    "### (IMPLEMENTATION) Write your Algorithm"
   ]
  },
  {
   "cell_type": "code",
   "execution_count": null,
   "metadata": {
    "collapsed": true
   },
   "outputs": [],
   "source": [
    "### TODO: Write your algorithm.\n",
    "### Feel free to use as many code cells as needed.\n",
    "\n",
    "def run_app(img_path):\n",
    "    ## handle cases for a human face, dog, and neither\n",
    "    \n"
   ]
  },
  {
   "cell_type": "markdown",
   "metadata": {},
   "source": [
    "---\n",
    "<a id='step6'></a>\n",
    "## Step 6: Test Your Algorithm\n",
    "\n",
    "In this section, you will take your new algorithm for a spin!  What kind of dog does the algorithm think that _you_ look like?  If you have a dog, does it predict your dog's breed accurately?  If you have a cat, does it mistakenly think that your cat is a dog?\n",
    "\n",
    "### (IMPLEMENTATION) Test Your Algorithm on Sample Images!\n",
    "\n",
    "Test your algorithm at least six images on your computer.  Feel free to use any images you like.  Use at least two human and two dog images.  \n",
    "\n",
    "__Question 6:__ Is the output better than you expected :) ?  Or worse :( ?  Provide at least three possible points of improvement for your algorithm."
   ]
  },
  {
   "cell_type": "markdown",
   "metadata": {},
   "source": [
    "__Answer:__ (Three possible points for improvement)"
   ]
  },
  {
   "cell_type": "code",
   "execution_count": null,
   "metadata": {
    "collapsed": true
   },
   "outputs": [],
   "source": [
    "## TODO: Execute your algorithm from Step 6 on\n",
    "## at least 6 images on your computer.\n",
    "## Feel free to use as many code cells as needed.\n",
    "\n",
    "## suggested code, below\n",
    "for file in np.hstack((human_files[:3], dog_files[:3])):\n",
    "    run_app(file)"
   ]
  }
 ],
 "metadata": {
  "anaconda-cloud": {},
  "kernelspec": {
   "display_name": "ml-capstone",
   "language": "python",
   "name": "ml-capstone"
  },
  "language_info": {
   "codemirror_mode": {
    "name": "ipython",
    "version": 3
   },
   "file_extension": ".py",
   "mimetype": "text/x-python",
   "name": "python",
   "nbconvert_exporter": "python",
   "pygments_lexer": "ipython3",
   "version": "3.6.10"
  }
 },
 "nbformat": 4,
 "nbformat_minor": 1
}
